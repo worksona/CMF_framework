{
    "cells": [
        {
            "cell_type": "markdown",
            "metadata": {},
            "source": [
                "# Cognitive Milestone Framework (CMF)\n",
                "\n",
                "## Introduction\n",
                "The **Cognitive Milestone Framework (CMF)** is a systematic guide for knowledge workers to develop key cognitive skills,\n",
                "track milestones and improve decision-making. This notebook combines theoretical concepts with functional tools to \n",
                "help you integrate CMF into your daily workflow.\n",
                "\n",
                "### Objectives:\n",
                "- Strengthen memory and understanding through daily practices.\n",
                "- Analyze and evaluate tasks critically.\n",
                "- Track milestones and build habits for long-term success.\n",
                "- Automate reminders and decision logs for enhanced productivity."
            ]
        },
        {
            "cell_type": "code",
            "execution_count": null,
            "metadata": {},
            "outputs": [],
            "source": [
                "# Import necessary libraries\n",
                "import json\n",
                "from datetime import datetime, timedelta\n",
                "import time"
            ]
        },
        {
            "cell_type": "markdown",
            "metadata": {},
            "source": [
                "## 1. Cognitive Skills Tracker\n",
                "\n",
                "Use this section to log daily tasks and associate them with specific cognitive skills (e.g. REMEMBER, UNDERSTAND etc.).\n",
                "\n",
                "### Example Use Case:\n",
                "Log your progress on a project, categorize tasks by cognitive skill, and reflect on patterns in your learning process."
            ]
        },
        {
            "cell_type": "code",
            "execution_count": null,
            "metadata": {},
            "outputs": [],
            "source": [
                "def log_skill_task(skill, task):\n",
                "    \"\"\"Log a cognitive skill and associated task into a JSON file.\"\"\"\n",
                "    log_entry = {\n",
                "        \"skill\": skill,\n",
                "        \"task\": task,\n",
                "        \"date\": datetime.now().strftime(\"%Y-%m-%d %H:%M:%S\")\n",
                "    }\n",
                "    with open(\"cognitive_skills_log.json\", \"a\") as file:\n",
                "        json.dump(log_entry, file)\n",
                "        file.write(\"\\n\")\n",
                "    print(f\"Task logged under {skill}: {task}\")\n",
                "\n",
                "# Example: Logging a task\n",
                "log_skill_task(\"REMEMBER\", \"Reviewed project requirements and memorized key objectives.\")"
            ]
        },
        {
            "cell_type": "markdown",
            "metadata": {},
            "source": [
                "## 2. Milestone Tracker\n",
                "\n",
                "Track your long-term milestones and progress in achieving breakthroughs.\n",
                "\n",
                "### Example Use Case:\n",
                "Set a milestone to complete a significant deliverable (e.g. writing a report) and update the status regularly."
            ]
        },
        {
            "cell_type": "code",
            "execution_count": null,
            "metadata": {},
            "outputs": [],
            "source": [
                "def log_milestone(milestone, status):\n",
                "    \"\"\"Log a milestone and its status into a JSON file.\"\"\"\n",
                "    data = {\"milestone\": milestone, \"status\": status, \"timestamp\": datetime.now().strftime(\"%Y-%m-%d %H:%M:%S\")}\n",
                "    with open(\"milestones.json\", \"a\") as file:\n",
                "        json.dump(data, file)\n",
                "        file.write(\"\\n\")\n",
                "    print(f\"Milestone logged: {milestone} - {status}\")\n",
                "\n",
                "# Example: Logging a milestone\n",
                "log_milestone(\"Complete first draft of research report\", \"In Progress\")"
            ]
        },
        {
            "cell_type": "markdown",
            "metadata": {},
            "source": [
                "## 3. Habit Reminder System\n",
                "\n",
                "Set reminders for important routines and habits to stay on track.\n",
                "\n",
                "### Example Use Case:\n",
                "Schedule a daily reflection session to review the day's achievements and plan the next day's tasks."
            ]
        },
        {
            "cell_type": "code",
            "execution_count": null,
            "metadata": {},
            "outputs": [],
            "source": [
                "def schedule_reminder(task, delay_minutes):\n",
                "    \"\"\"Set a reminder for a specific task after a delay in minutes.\"\"\"\n",
                "    now = datetime.now()\n",
                "    reminder_time = now + timedelta(minutes=delay_minutes)\n",
                "    print(f\"Reminder set for: {reminder_time.strftime('%H:%M:%S')}\")\n",
                "    time.sleep(delay_minutes * 60)\n",
                "    print(f\"Time to: {task}\")\n",
                "\n",
                "# Example: Scheduling a reminder (commented out to avoid delay in notebook)\n",
                "# schedule_reminder(\"Reflect on today's learning\", 10)"
            ]
        },
        {
            "cell_type": "markdown",
            "metadata": {},
            "source": [
                "## 4. Reflection and Decision Logs\n",
                "\n",
                "Maintain logs of key reflections and decisions to build a record of learning and growth.\n",
                "\n",
                "### Example Use Case:\n",
                "Log the pros and cons of a decision, the chosen option, and its outcome."
            ]
        },
        {
            "cell_type": "code",
            "execution_count": null,
            "metadata": {},
            "outputs": [],
            "source": [
                "def log_reflection(reflection):\n",
                "    \"\"\"Log a reflection entry into a JSON file.\"\"\"\n",
                "    entry = {\n",
                "        \"reflection\": reflection,\n",
                "        \"timestamp\": datetime.now().strftime(\"%Y-%m-%d %H:%M:%S\")\n",
                "    }\n",
                "    with open(\"reflection_logs.json\", \"a\") as file:\n",
                "        json.dump(entry, file)\n",
                "        file.write(\"\\n\")\n",
                "    print(f\"Reflection logged: {reflection}\")\n",
                "\n",
                "# Example: Logging a reflection\n",
                "log_reflection(\"Analyzed the outcomes of my project and identified key areas for improvement.\")"
            ]
        },
        {
            "cell_type": "markdown",
            "metadata": {},
            "source": [
                "## 5. Combining It All: Daily Workflow\n",
                "\n",
                "Integrate all functions into a cohesive daily workflow.\n",
                "\n",
                "### Example Workflow:\n",
                "1. **Morning**:\n",
                "   - Use the Habit Reminder System to schedule learning activities.\n",
                "   - Log tasks under cognitive skills (e.g. remember and understand).\n",
                "\n",
                "2. **Mid-Day**:\n",
                "   - Use the milestone tracker to assess progress on significant goals.\n",
                "\n",
                "3. **Evening**:\n",
                "   - Reflect on the day's activities and log key decisions.\n",
                "   - Update milestones and set habits for the next day."
            ]
        },
        {
            "cell_type": "code",
            "execution_count": null,
            "metadata": {},
            "outputs": [],
            "source": [
                "# Example Workflow Execution\n",
                "# Morning\n",
                "log_skill_task(\"UNDERSTAND\", \"Read and summarized key concepts from a book.\")\n",
                "\n",
                "# Mid-Day\n",
                "log_milestone(\"Submit project proposal\", \"Completed\")\n",
                "\n",
                "# Evening\n",
                "log_reflection(\"Reflected on today's tasks and identified improvement areas.\")"
            ]
        },
        {
            "cell_type": "markdown",
            "metadata": {},
            "source": [
                "## 6. Summary\n",
                "\n",
                "This notebook provides a structured framework to enhance your cognitive and decision-making skills. By using these tools:\n",
                "- You can systematically track and improve your learning habits.\n",
                "- Maintain a clear record of progress and reflections.\n",
                "- Build consistency through habit reminders.\n",
                "\n",
                "### Next Steps:\n",
                "1. Start by logging your first task or reflection.\n",
                "2. Set a milestone for the week.\n",
                "3. Use the habit reminder system to build daily practices.\n",
                "\n",
                "Happy learning and growing!"
            ]
        }
    ],
    "metadata": {
        "kernelspec": {
            "display_name": "Python 3",
            "language": "python",
            "name": "python3"
        },
        "language_info": {
            "codemirror_mode": {
                "name": "ipython",
                "version": 3
            },
            "file_extension": ".py",
            "mimetype": "text/x-python",
            "name": "python",
            "nbconvert_exporter": "python",
            "pygments_lexer": "ipython3",
            "version": "3.8.0"
        }
    },
    "nbformat": 4,
    "nbformat_minor": 4
}
